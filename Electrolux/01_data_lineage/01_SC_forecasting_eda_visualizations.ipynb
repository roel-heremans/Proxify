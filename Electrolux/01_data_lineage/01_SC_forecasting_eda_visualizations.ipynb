{
 "cells": [
  {
   "cell_type": "markdown",
   "metadata": {
    "application/vnd.databricks.v1+cell": {
     "cellMetadata": {},
     "inputWidgets": {},
     "nuid": "676b620c-26c3-4cde-9de2-037d706edc6b",
     "showTitle": false,
     "title": ""
    }
   },
   "source": [
    "##Service Call Forecasting Data visualizations"
   ]
  },
  {
   "cell_type": "markdown",
   "metadata": {
    "application/vnd.databricks.v1+cell": {
     "cellMetadata": {},
     "inputWidgets": {},
     "nuid": "b8ec9e0b-003b-4736-8fed-a74a12a3cacf",
     "showTitle": false,
     "title": ""
    }
   },
   "source": [
    "###Count of failure_date grouped by period year"
   ]
  },
  {
   "cell_type": "code",
   "execution_count": 0,
   "metadata": {
    "application/vnd.databricks.v1+cell": {
     "cellMetadata": {
      "implicitDf": true
     },
     "inputWidgets": {},
     "nuid": "1fd6f951-0dbc-407c-b8aa-1bb166a1c835",
     "showTitle": false,
     "title": ""
    }
   },
   "outputs": [
    {
     "output_type": "display_data",
     "data": {
      "text/plain": [
       "Databricks visualization. Run in Databricks to view."
      ]
     },
     "metadata": {
      "application/vnd.databricks.v1.subcommand+json": {
       "bindings": {},
       "collapsed": false,
       "command": "%sql WITH q AS (select extract(year from period_as_date) year_period, count(failure_date) from team_group_quality.service_call_forecasting group by extract(year from period_as_date) order by year_period) SELECT `year_period`,SUM(`count(failure_date)`) `column_dbe32cf520` FROM q GROUP BY `year_period`",
       "commandTitle": "Visualization 1",
       "commandType": "auto",
       "commandVersion": 0,
       "commentThread": [],
       "commentsVisible": false,
       "contentSha256Hex": null,
       "customPlotOptions": {
        "redashChart": [
         {
          "key": "type",
          "value": "CHART"
         },
         {
          "key": "options",
          "value": {
           "alignYAxesAtZero": true,
           "coefficient": 1,
           "columnConfigurationMap": {
            "x": {
             "column": "year_period",
             "id": "column_dbe32cf519"
            },
            "y": [
             {
              "column": "count(failure_date)",
              "id": "column_dbe32cf520",
              "transform": "SUM"
             }
            ]
           },
           "dateTimeFormat": "DD/MM/YYYY HH:mm",
           "direction": {
            "type": "counterclockwise"
           },
           "error_y": {
            "type": "data",
            "visible": true
           },
           "globalSeriesType": "column",
           "isAggregationOn": true,
           "legend": {
            "traceorder": "normal"
           },
           "missingValuesAsZero": true,
           "numberFormat": "0,0[.]00000",
           "percentFormat": "0[.]00%",
           "series": {
            "error_y": {
             "type": "data",
             "visible": true
            },
            "stacking": null
           },
           "seriesOptions": {
            "column_dbe32cf520": {
             "name": "count(failure_date)",
             "type": "column",
             "yAxis": 0
            }
           },
           "showDataLabels": false,
           "sizemode": "diameter",
           "sortX": true,
           "sortY": true,
           "swappedAxes": false,
           "textFormat": "",
           "useAggregationsUi": true,
           "valuesOptions": {},
           "version": 2,
           "xAxis": {
            "labels": {
             "enabled": true
            },
            "type": "-"
           },
           "yAxis": [
            {
             "type": "-"
            },
            {
             "opposite": true,
             "type": "-"
            }
           ]
          }
         }
        ]
       },
       "datasetPreviewNameToCmdIdMap": {},
       "diffDeletes": [],
       "diffInserts": [],
       "displayType": "redashChart",
       "error": null,
       "errorSummary": null,
       "errorTraceType": null,
       "finishTime": 0,
       "globalVars": {},
       "guid": "",
       "height": "auto",
       "hideCommandCode": false,
       "hideCommandResult": false,
       "iPythonMetadata": null,
       "inputWidgets": {},
       "isLockedInExamMode": false,
       "latestUser": "a user",
       "latestUserId": null,
       "listResultMetadata": null,
       "metadata": {},
       "nuid": "4e187036-0a57-44da-bc9b-f2ca6765e43e",
       "origId": 0,
       "parentHierarchy": [],
       "pivotAggregation": null,
       "pivotColumns": null,
       "position": 3.0,
       "resultDbfsErrorMessage": null,
       "resultDbfsStatus": "INLINED_IN_TREE",
       "results": null,
       "showCommandTitle": false,
       "startTime": 0,
       "state": "input",
       "streamStates": {},
       "subcommandOptions": {
        "queryPlan": {
         "groups": [
          {
           "column": "year_period",
           "type": "column"
          }
         ],
         "selects": [
          {
           "column": "year_period",
           "type": "column"
          },
          {
           "alias": "column_dbe32cf520",
           "args": [
            {
             "column": "count(failure_date)",
             "type": "column"
            }
           ],
           "function": "SUM",
           "type": "function"
          }
         ]
        }
       },
       "submitTime": 0,
       "subtype": "tableResultSubCmd.visualization",
       "tableResultIndex": 0,
       "useConsistentColors": false,
       "version": "CommandV1",
       "width": "auto",
       "workflows": null,
       "xColumns": null,
       "yColumns": null
      }
     },
     "output_type": "display_data"
    }
   ],
   "source": [
    "%sql\n",
    "select extract(year from period_as_date) year_period, count(failure_date) from team_group_quality.service_call_forecasting group by extract(year from period_as_date) order by year_period"
   ]
  },
  {
   "cell_type": "markdown",
   "metadata": {
    "application/vnd.databricks.v1+cell": {
     "cellMetadata": {},
     "inputWidgets": {},
     "nuid": "c4f5cc22-fea9-4ee0-acd0-f943d0dc36f4",
     "showTitle": false,
     "title": ""
    }
   },
   "source": [
    "###Count of failure date grouped by product line"
   ]
  },
  {
   "cell_type": "code",
   "execution_count": 0,
   "metadata": {
    "application/vnd.databricks.v1+cell": {
     "cellMetadata": {
      "implicitDf": true
     },
     "inputWidgets": {},
     "nuid": "e68fafd1-a41f-4167-9925-7ba8b2195136",
     "showTitle": false,
     "title": ""
    }
   },
   "outputs": [
    {
     "output_type": "display_data",
     "data": {
      "text/plain": [
       "Databricks visualization. Run in Databricks to view."
      ]
     },
     "metadata": {
      "application/vnd.databricks.v1.subcommand+json": {
       "bindings": {},
       "collapsed": false,
       "command": "%sql WITH q AS (select product_line, count(failure_date) from team_group_quality.service_call_forecasting group by product_line order by product_line) SELECT `product_line`,SUM(`count(failure_date)`) `column_dbe32cf522` FROM q GROUP BY `product_line`",
       "commandTitle": "Visualization 1",
       "commandType": "auto",
       "commandVersion": 0,
       "commentThread": [],
       "commentsVisible": false,
       "contentSha256Hex": null,
       "customPlotOptions": {
        "redashChart": [
         {
          "key": "type",
          "value": "CHART"
         },
         {
          "key": "options",
          "value": {
           "alignYAxesAtZero": true,
           "coefficient": 1,
           "columnConfigurationMap": {
            "x": {
             "column": "product_line",
             "id": "column_dbe32cf521"
            },
            "y": [
             {
              "column": "count(failure_date)",
              "id": "column_dbe32cf522",
              "transform": "SUM"
             }
            ]
           },
           "dateTimeFormat": "DD/MM/YYYY HH:mm",
           "direction": {
            "type": "counterclockwise"
           },
           "error_y": {
            "type": "data",
            "visible": true
           },
           "globalSeriesType": "column",
           "legend": {
            "traceorder": "normal"
           },
           "missingValuesAsZero": true,
           "numberFormat": "0,0[.]00000",
           "percentFormat": "0[.]00%",
           "series": {
            "error_y": {
             "type": "data",
             "visible": true
            },
            "stacking": null
           },
           "seriesOptions": {
            "column_dbe32cf522": {
             "name": "count(failure_date)",
             "yAxis": 0
            }
           },
           "showDataLabels": false,
           "sizemode": "diameter",
           "sortX": true,
           "sortY": true,
           "swappedAxes": true,
           "textFormat": "",
           "useAggregationsUi": true,
           "valuesOptions": {},
           "version": 2,
           "xAxis": {
            "labels": {
             "enabled": true
            },
            "type": "-"
           },
           "yAxis": [
            {
             "type": "-"
            },
            {
             "opposite": true,
             "type": "-"
            }
           ]
          }
         }
        ]
       },
       "datasetPreviewNameToCmdIdMap": {},
       "diffDeletes": [],
       "diffInserts": [],
       "displayType": "redashChart",
       "error": null,
       "errorSummary": null,
       "errorTraceType": null,
       "finishTime": 0,
       "globalVars": {},
       "guid": "",
       "height": "auto",
       "hideCommandCode": false,
       "hideCommandResult": false,
       "iPythonMetadata": null,
       "inputWidgets": {},
       "isLockedInExamMode": false,
       "latestUser": "a user",
       "latestUserId": null,
       "listResultMetadata": null,
       "metadata": {},
       "nuid": "ae30ec25-9681-4d40-b5a8-b305b84ebcad",
       "origId": 0,
       "parentHierarchy": [],
       "pivotAggregation": null,
       "pivotColumns": null,
       "position": 4.0,
       "resultDbfsErrorMessage": null,
       "resultDbfsStatus": "INLINED_IN_TREE",
       "results": null,
       "showCommandTitle": false,
       "startTime": 0,
       "state": "input",
       "streamStates": {},
       "subcommandOptions": {
        "queryPlan": {
         "groups": [
          {
           "column": "product_line",
           "type": "column"
          }
         ],
         "selects": [
          {
           "column": "product_line",
           "type": "column"
          },
          {
           "alias": "column_dbe32cf522",
           "args": [
            {
             "column": "count(failure_date)",
             "type": "column"
            }
           ],
           "function": "SUM",
           "type": "function"
          }
         ]
        }
       },
       "submitTime": 0,
       "subtype": "tableResultSubCmd.visualization",
       "tableResultIndex": 0,
       "useConsistentColors": false,
       "version": "CommandV1",
       "width": "auto",
       "workflows": null,
       "xColumns": null,
       "yColumns": null
      }
     },
     "output_type": "display_data"
    }
   ],
   "source": [
    "%sql\n",
    "select product_line, count(failure_date) from team_group_quality.service_call_forecasting group by product_line order by product_line"
   ]
  },
  {
   "cell_type": "markdown",
   "metadata": {
    "application/vnd.databricks.v1+cell": {
     "cellMetadata": {},
     "inputWidgets": {},
     "nuid": "e8a81169-27d4-42c4-ab8f-0e276669b83d",
     "showTitle": false,
     "title": ""
    }
   },
   "source": [
    "###Count of failure date in each market over time"
   ]
  },
  {
   "cell_type": "code",
   "execution_count": 0,
   "metadata": {
    "application/vnd.databricks.v1+cell": {
     "cellMetadata": {
      "implicitDf": true
     },
     "inputWidgets": {},
     "nuid": "0c712613-d5fa-444e-905f-61353cf74f23",
     "showTitle": false,
     "title": ""
    }
   },
   "outputs": [
    {
     "output_type": "display_data",
     "data": {
      "text/plain": [
       "Databricks visualization. Run in Databricks to view."
      ]
     },
     "metadata": {
      "application/vnd.databricks.v1.subcommand+json": {
       "bindings": {},
       "collapsed": false,
       "command": "%sql WITH q AS (select extract(year from period_as_date) year_period, market, count(failure_date) from team_group_quality.service_call_forecasting group by extract(year from period_as_date), market order by year_period) SELECT `year_period`,SUM(`count(failure_date)`) `column_dbe32cf524`,`market` FROM q GROUP BY `market`,`year_period`",
       "commandTitle": "Visualization 1",
       "commandType": "auto",
       "commandVersion": 0,
       "commentThread": [],
       "commentsVisible": false,
       "contentSha256Hex": null,
       "customPlotOptions": {
        "redashChart": [
         {
          "key": "type",
          "value": "CHART"
         },
         {
          "key": "options",
          "value": {
           "alignYAxesAtZero": true,
           "coefficient": 1,
           "columnConfigurationMap": {
            "series": {
             "column": "market",
             "id": "column_dbe32cf525"
            },
            "x": {
             "column": "year_period",
             "id": "column_dbe32cf523"
            },
            "y": [
             {
              "column": "count(failure_date)",
              "id": "column_dbe32cf524",
              "transform": "SUM"
             }
            ]
           },
           "dateTimeFormat": "DD/MM/YYYY HH:mm",
           "direction": {
            "type": "counterclockwise"
           },
           "error_y": {
            "type": "data",
            "visible": true
           },
           "globalSeriesType": "column",
           "isAggregationOn": true,
           "legend": {
            "traceorder": "normal"
           },
           "missingValuesAsZero": true,
           "numberFormat": "0,0[.]00000",
           "percentFormat": "0[.]00%",
           "series": {
            "error_y": {
             "type": "data",
             "visible": true
            },
            "percentValues": false,
            "stacking": "stack"
           },
           "seriesOptions": {
            "column_dbe32cf524": {
             "name": "count(failure_date)",
             "type": "column",
             "yAxis": 0
            }
           },
           "showDataLabels": false,
           "sizemode": "diameter",
           "sortX": true,
           "sortY": true,
           "swappedAxes": false,
           "textFormat": "",
           "useAggregationsUi": true,
           "valuesOptions": {},
           "version": 2,
           "xAxis": {
            "labels": {
             "enabled": true
            },
            "type": "-"
           },
           "yAxis": [
            {
             "type": "-"
            },
            {
             "opposite": true,
             "type": "-"
            }
           ]
          }
         }
        ]
       },
       "datasetPreviewNameToCmdIdMap": {},
       "diffDeletes": [],
       "diffInserts": [],
       "displayType": "redashChart",
       "error": null,
       "errorSummary": null,
       "errorTraceType": null,
       "finishTime": 0,
       "globalVars": {},
       "guid": "",
       "height": "auto",
       "hideCommandCode": false,
       "hideCommandResult": false,
       "iPythonMetadata": null,
       "inputWidgets": {},
       "isLockedInExamMode": false,
       "latestUser": "a user",
       "latestUserId": null,
       "listResultMetadata": null,
       "metadata": {},
       "nuid": "6d9bf6ad-a1e6-410f-9199-63f14355e26d",
       "origId": 0,
       "parentHierarchy": [],
       "pivotAggregation": null,
       "pivotColumns": null,
       "position": 5.0,
       "resultDbfsErrorMessage": null,
       "resultDbfsStatus": "INLINED_IN_TREE",
       "results": null,
       "showCommandTitle": false,
       "startTime": 0,
       "state": "input",
       "streamStates": {},
       "subcommandOptions": {
        "queryPlan": {
         "groups": [
          {
           "column": "year_period",
           "type": "column"
          },
          {
           "column": "market",
           "type": "column"
          }
         ],
         "selects": [
          {
           "column": "year_period",
           "type": "column"
          },
          {
           "alias": "column_dbe32cf524",
           "args": [
            {
             "column": "count(failure_date)",
             "type": "column"
            }
           ],
           "function": "SUM",
           "type": "function"
          },
          {
           "column": "market",
           "type": "column"
          }
         ]
        }
       },
       "submitTime": 0,
       "subtype": "tableResultSubCmd.visualization",
       "tableResultIndex": 0,
       "useConsistentColors": false,
       "version": "CommandV1",
       "width": "auto",
       "workflows": null,
       "xColumns": null,
       "yColumns": null
      }
     },
     "output_type": "display_data"
    }
   ],
   "source": [
    "%sql\n",
    "select extract(year from period_as_date) year_period, market, count(failure_date) from team_group_quality.service_call_forecasting group by extract(year from period_as_date), market order by year_period"
   ]
  },
  {
   "cell_type": "code",
   "execution_count": 0,
   "metadata": {
    "application/vnd.databricks.v1+cell": {
     "cellMetadata": {
      "implicitDf": true
     },
     "inputWidgets": {},
     "nuid": "b5c853f7-e013-4fd8-aa2c-215cc767abe9",
     "showTitle": false,
     "title": ""
    }
   },
   "outputs": [
    {
     "output_type": "display_data",
     "data": {
      "text/plain": [
       "Databricks visualization. Run in Databricks to view."
      ]
     },
     "metadata": {
      "application/vnd.databricks.v1.subcommand+json": {
       "bindings": {},
       "collapsed": false,
       "command": "%sql WITH q AS (select pnc_sku, extract(year from period_as_date), count(failure_date) from team_group_quality.service_call_forecasting where pnc_sku in (select pnc_sku from team_group_quality.service_call_forecasting limit 50) group by pnc_sku,\nextract(year from period_as_date)) SELECT `extract(year FROM period_as_date)`,`count(failure_date)`,`pnc_sku` FROM q",
       "commandTitle": "Visualization 1",
       "commandType": "auto",
       "commandVersion": 0,
       "commentThread": [],
       "commentsVisible": false,
       "contentSha256Hex": null,
       "customPlotOptions": {
        "redashChart": [
         {
          "key": "type",
          "value": "CHART"
         },
         {
          "key": "options",
          "value": {
           "alignYAxesAtZero": true,
           "coefficient": 1,
           "columnConfigurationMap": {
            "series": {
             "column": "pnc_sku",
             "id": "column_dbe32cf532"
            },
            "x": {
             "column": "extract(year FROM period_as_date)",
             "id": "column_dbe32cf530"
            },
            "y": [
             {
              "column": "count(failure_date)",
              "id": "column_dbe32cf531"
             }
            ]
           },
           "dateTimeFormat": "DD/MM/YYYY HH:mm",
           "direction": {
            "type": "counterclockwise"
           },
           "error_y": {
            "type": "data",
            "visible": true
           },
           "globalSeriesType": "scatter",
           "legend": {
            "traceorder": "normal"
           },
           "missingValuesAsZero": true,
           "numberFormat": "0,0[.]00000",
           "percentFormat": "0[.]00%",
           "series": {
            "error_y": {
             "type": "data",
             "visible": true
            },
            "stacking": null
           },
           "seriesOptions": {
            "column_dbe32cf531": {
             "name": "count(failure_date)",
             "type": "scatter",
             "yAxis": 0
            }
           },
           "showDataLabels": false,
           "sizemode": "diameter",
           "sortX": true,
           "sortY": true,
           "swappedAxes": false,
           "textFormat": "",
           "useAggregationsUi": true,
           "valuesOptions": {},
           "version": 2,
           "xAxis": {
            "labels": {
             "enabled": true
            },
            "title": {
             "text": "year"
            },
            "type": "-"
           },
           "yAxis": [
            {
             "type": "-"
            },
            {
             "opposite": true,
             "type": "-"
            }
           ]
          }
         }
        ]
       },
       "datasetPreviewNameToCmdIdMap": {},
       "diffDeletes": [],
       "diffInserts": [],
       "displayType": "redashChart",
       "error": null,
       "errorSummary": null,
       "errorTraceType": null,
       "finishTime": 0,
       "globalVars": {},
       "guid": "",
       "height": "auto",
       "hideCommandCode": false,
       "hideCommandResult": false,
       "iPythonMetadata": null,
       "inputWidgets": {},
       "isLockedInExamMode": false,
       "latestUser": "a user",
       "latestUserId": null,
       "listResultMetadata": null,
       "metadata": {},
       "nuid": "f2d22ae6-ea6b-4fe0-b03f-878e54a2fd0e",
       "origId": 0,
       "parentHierarchy": [],
       "pivotAggregation": null,
       "pivotColumns": null,
       "position": 6.0,
       "resultDbfsErrorMessage": null,
       "resultDbfsStatus": "INLINED_IN_TREE",
       "results": null,
       "showCommandTitle": false,
       "startTime": 0,
       "state": "input",
       "streamStates": {},
       "subcommandOptions": {
        "queryPlan": {
         "selects": [
          {
           "column": "extract(year FROM period_as_date)",
           "type": "column"
          },
          {
           "column": "count(failure_date)",
           "type": "column"
          },
          {
           "column": "pnc_sku",
           "type": "column"
          }
         ]
        }
       },
       "submitTime": 0,
       "subtype": "tableResultSubCmd.visualization",
       "tableResultIndex": 0,
       "useConsistentColors": false,
       "version": "CommandV1",
       "width": "auto",
       "workflows": null,
       "xColumns": null,
       "yColumns": null
      }
     },
     "output_type": "display_data"
    }
   ],
   "source": [
    "%sql\n",
    "select pnc_sku, extract(year from period_as_date), count(failure_date) from team_group_quality.service_call_forecasting where pnc_sku in (select pnc_sku from team_group_quality.service_call_forecasting limit 50) group by pnc_sku,\n",
    "extract(year from period_as_date) "
   ]
  },
  {
   "cell_type": "code",
   "execution_count": 0,
   "metadata": {
    "application/vnd.databricks.v1+cell": {
     "cellMetadata": {},
     "inputWidgets": {},
     "nuid": "dc3d88c5-db52-42b3-8f05-00ead50ae75d",
     "showTitle": false,
     "title": ""
    }
   },
   "outputs": [],
   "source": [
    "import seaborn as sns\n",
    "import matplotlib.pyplot as plt\n",
    "import pandas as pd\n",
    "import matplotlib\n",
    "\n",
    "base = spark.sql(\"select extract(year from period_as_date) year_period, pnc_sku , count(sell_out_date) from team_group_quality.service_call_forecasting group by extract(year from period_as_date), pnc_sku\")\n",
    "\n",
    "\n",
    "#test_df = pd.read_csv(base)\n",
    "\n",
    "test_df = base.toPandas()\n",
    "\n",
    "plt.figure(figsize=(8,8))\n",
    "\n",
    "sns.barplot(x = 'year_period', y = 'count(sell_out_date)', data = test_df)\n",
    "\n",
    "plt.show()\n",
    "\n",
    "\n"
   ]
  },
  {
   "cell_type": "markdown",
   "metadata": {
    "application/vnd.databricks.v1+cell": {
     "cellMetadata": {},
     "inputWidgets": {},
     "nuid": "f36d7484-7250-4bc5-a67d-f69fe27f2c46",
     "showTitle": false,
     "title": ""
    }
   },
   "source": [
    "###Count of distinct pnc_sku over sell_out_year for the major product lines('Dish Care','Fabric Care', 'Food Preparation', 'Food Preservation'))"
   ]
  },
  {
   "cell_type": "code",
   "execution_count": 0,
   "metadata": {
    "application/vnd.databricks.v1+cell": {
     "cellMetadata": {},
     "inputWidgets": {},
     "nuid": "ec514cf0-f283-4d31-9342-f194b19548a6",
     "showTitle": false,
     "title": ""
    }
   },
   "outputs": [],
   "source": [
    "\n",
    "base2 = spark.sql(\"select extract(year from sell_out_date) year_sell_out_date, product_line, count(distinct pnc_sku) count_distinct_pnc_sku from team_group_quality.service_call_forecasting where product_line in ('Dish Care','Fabric Care', 'Food Preparation', 'Food Preservation') group by extract(year from sell_out_date), product_line having extract(year from sell_out_date) between '2002' and '2023'\")\n",
    "\n",
    "test_df2 = base2.toPandas()\n",
    "\n",
    "\n",
    "plt.figure(figsize=(20,20))\n",
    "\n",
    "sns.relplot(data=test_df2, x='year_sell_out_date', y='count_distinct_pnc_sku', kind='line', hue='product_line').set(title=\"number of pnc_sku over years(sell_out_date) grouped by product line\")\n",
    "\n",
    "#sns.lineplot(x = 'year_sell_out_date', y = 'count(pnc_sku)', data = test_df2 )\n",
    "\n",
    "plt.show()\n"
   ]
  },
  {
   "cell_type": "markdown",
   "metadata": {
    "application/vnd.databricks.v1+cell": {
     "cellMetadata": {},
     "inputWidgets": {},
     "nuid": "26d15367-ed84-4381-90e7-1ee1ec00d14a",
     "showTitle": false,
     "title": ""
    }
   },
   "source": [
    "###Count of distinct pnc_sku over failure_year for the major product lines('Dish Care','Fabric Care', 'Food Preparation', 'Food Preservation'))"
   ]
  },
  {
   "cell_type": "code",
   "execution_count": 0,
   "metadata": {
    "application/vnd.databricks.v1+cell": {
     "cellMetadata": {},
     "inputWidgets": {},
     "nuid": "281f75ac-502d-40a4-b706-f05db64baf56",
     "showTitle": false,
     "title": ""
    }
   },
   "outputs": [],
   "source": [
    "\n",
    "base3 = spark.sql(\"select extract(year from failure_date) year_failure_date, product_line, count(distinct pnc_sku) count_distinct_pnc_sku from team_group_quality.service_call_forecasting where product_line in ('Dish Care','Fabric Care', 'Food Preparation', 'Food Preservation') group by extract(year from failure_date), product_line \")\n",
    "\n",
    "test_df3 = base3.toPandas()\n",
    "\n",
    "\n",
    "plt.figure(figsize=(20,20))\n",
    "\n",
    "sns.relplot(data=test_df3, x='year_failure_date', y='count_distinct_pnc_sku', kind='line', hue='product_line').set(title=\"number of pnc_sku over years(failure_date) grouped by product line\")\n",
    "\n",
    "#sns.lineplot(x = 'year_sell_out_date', y = 'count(pnc_sku)', data = test_df2 )\n",
    "\n",
    "plt.show()\n"
   ]
  },
  {
   "cell_type": "code",
   "execution_count": 0,
   "metadata": {
    "application/vnd.databricks.v1+cell": {
     "cellMetadata": {
      "implicitDf": true
     },
     "inputWidgets": {},
     "nuid": "15ccb111-27b1-4716-aad2-17531fd7b300",
     "showTitle": false,
     "title": ""
    }
   },
   "outputs": [
    {
     "output_type": "display_data",
     "data": {
      "text/plain": [
       "Databricks visualization. Run in Databricks to view."
      ]
     },
     "metadata": {
      "application/vnd.databricks.v1.subcommand+json": {
       "bindings": {},
       "collapsed": false,
       "command": "%sql WITH q AS (select extract(year from sell_out_date) year_sell_out_date, count(pnc_sku) from team_group_quality.service_call_forecasting group by extract(year from sell_out_date) having extract(year from sell_out_date) between '2002' and '2023' order by year_sell_out_date) SELECT `year_sell_out_date`,SUM(`count(pnc_sku)`) `column_4e2fe24b10` FROM q GROUP BY `year_sell_out_date`",
       "commandTitle": "Visualization 1",
       "commandType": "auto",
       "commandVersion": 0,
       "commentThread": [],
       "commentsVisible": false,
       "contentSha256Hex": null,
       "customPlotOptions": {
        "redashChart": [
         {
          "key": "type",
          "value": "CHART"
         },
         {
          "key": "options",
          "value": {
           "alignYAxesAtZero": true,
           "coefficient": 1,
           "columnConfigurationMap": {
            "x": {
             "column": "year_sell_out_date",
             "id": "column_4e2fe24b9"
            },
            "y": [
             {
              "column": "count(pnc_sku)",
              "id": "column_4e2fe24b10",
              "transform": "SUM"
             }
            ]
           },
           "dateTimeFormat": "DD/MM/YYYY HH:mm",
           "direction": {
            "type": "counterclockwise"
           },
           "error_y": {
            "type": "data",
            "visible": true
           },
           "globalSeriesType": "column",
           "isAggregationOn": true,
           "legend": {
            "traceorder": "normal"
           },
           "missingValuesAsZero": true,
           "numberFormat": "0,0[.]00000",
           "percentFormat": "0[.]00%",
           "series": {
            "error_y": {
             "type": "data",
             "visible": true
            },
            "stacking": null
           },
           "seriesOptions": {
            "column_4e2fe24b10": {
             "color": "#3BD973",
             "name": "count(pnc_sku)",
             "type": "column",
             "yAxis": 0
            }
           },
           "showDataLabels": false,
           "sizemode": "diameter",
           "sortX": true,
           "sortY": true,
           "swappedAxes": false,
           "textFormat": "",
           "useAggregationsUi": true,
           "valuesOptions": {},
           "version": 2,
           "xAxis": {
            "labels": {
             "enabled": true
            },
            "type": "-"
           },
           "yAxis": [
            {
             "type": "-"
            },
            {
             "opposite": true,
             "type": "-"
            }
           ]
          }
         }
        ]
       },
       "datasetPreviewNameToCmdIdMap": {},
       "diffDeletes": [],
       "diffInserts": [],
       "displayType": "redashChart",
       "error": null,
       "errorSummary": null,
       "errorTraceType": null,
       "finishTime": 0,
       "globalVars": {},
       "guid": "",
       "height": "auto",
       "hideCommandCode": false,
       "hideCommandResult": false,
       "iPythonMetadata": null,
       "inputWidgets": {},
       "isLockedInExamMode": false,
       "latestUser": "a user",
       "latestUserId": null,
       "listResultMetadata": null,
       "metadata": {},
       "nuid": "25b00d7f-20f1-432f-ab82-60a07b5c223c",
       "origId": 0,
       "parentHierarchy": [],
       "pivotAggregation": null,
       "pivotColumns": null,
       "position": 9.5,
       "resultDbfsErrorMessage": null,
       "resultDbfsStatus": "INLINED_IN_TREE",
       "results": null,
       "showCommandTitle": false,
       "startTime": 0,
       "state": "input",
       "streamStates": {},
       "subcommandOptions": {
        "queryPlan": {
         "groups": [
          {
           "column": "year_sell_out_date",
           "type": "column"
          }
         ],
         "selects": [
          {
           "column": "year_sell_out_date",
           "type": "column"
          },
          {
           "alias": "column_4e2fe24b10",
           "args": [
            {
             "column": "count(pnc_sku)",
             "type": "column"
            }
           ],
           "function": "SUM",
           "type": "function"
          }
         ]
        }
       },
       "submitTime": 0,
       "subtype": "tableResultSubCmd.visualization",
       "tableResultIndex": 0,
       "useConsistentColors": false,
       "version": "CommandV1",
       "width": "auto",
       "workflows": null,
       "xColumns": null,
       "yColumns": null
      }
     },
     "output_type": "display_data"
    }
   ],
   "source": [
    "%sql\n",
    "select extract(year from sell_out_date) year_sell_out_date, count(pnc_sku) from team_group_quality.service_call_forecasting group by extract(year from sell_out_date) having extract(year from sell_out_date) between '2002' and '2023' order by year_sell_out_date"
   ]
  },
  {
   "cell_type": "markdown",
   "metadata": {
    "application/vnd.databricks.v1+cell": {
     "cellMetadata": {},
     "inputWidgets": {},
     "nuid": "fdc5653a-380b-4a3d-9b57-159133f6c835",
     "showTitle": false,
     "title": ""
    }
   },
   "source": [
    "###EDA"
   ]
  },
  {
   "cell_type": "code",
   "execution_count": 0,
   "metadata": {
    "application/vnd.databricks.v1+cell": {
     "cellMetadata": {
      "byteLimit": 2048000,
      "rowLimit": 10000
     },
     "inputWidgets": {},
     "nuid": "4e0b863d-522c-47a0-a2a0-07d4428e5a61",
     "showTitle": false,
     "title": ""
    }
   },
   "outputs": [],
   "source": [
    "import pandas as pd\n",
    "import matplotlib.pyplot as plt\n",
    "import seaborn as sns"
   ]
  },
  {
   "cell_type": "markdown",
   "metadata": {
    "application/vnd.databricks.v1+cell": {
     "cellMetadata": {},
     "inputWidgets": {},
     "nuid": "f07018a7-268f-44a8-aea2-6558e5b0d78b",
     "showTitle": false,
     "title": ""
    }
   },
   "source": [
    "#### Number of calls overtime (overall)"
   ]
  },
  {
   "cell_type": "code",
   "execution_count": 0,
   "metadata": {
    "application/vnd.databricks.v1+cell": {
     "cellMetadata": {},
     "inputWidgets": {},
     "nuid": "f0000c2a-2e06-4929-8d11-6bde98487e27",
     "showTitle": false,
     "title": ""
    }
   },
   "outputs": [],
   "source": [
    "df = spark.sql(\"select * from team_group_quality.service_call_forecasting\")\n",
    "ncalls_overtime = df.groupby('period_as_date').agg({'qty_serv': 'sum'}).toPandas()\n",
    "ncalls_overtime = ncalls_overtime.sort_values('period_as_date', ascending=True)\n",
    "ncalls_overtime"
   ]
  },
  {
   "cell_type": "code",
   "execution_count": 0,
   "metadata": {
    "application/vnd.databricks.v1+cell": {
     "cellMetadata": {},
     "inputWidgets": {},
     "nuid": "59a05168-bf8d-4551-b595-9be904b384e7",
     "showTitle": false,
     "title": ""
    }
   },
   "outputs": [],
   "source": [
    "sns.lineplot(data=ncalls_overtime, x=\"period_as_date\", y=\"sum(qty_serv)\").set(title=\"Overall # calls over time\")"
   ]
  },
  {
   "cell_type": "markdown",
   "metadata": {
    "application/vnd.databricks.v1+cell": {
     "cellMetadata": {},
     "inputWidgets": {},
     "nuid": "b120f142-aeb7-411b-97ef-7fcc073cea62",
     "showTitle": false,
     "title": ""
    }
   },
   "source": [
    "#### Number of calls over time per product line (showing only major appliances atm.)"
   ]
  },
  {
   "cell_type": "code",
   "execution_count": 0,
   "metadata": {
    "application/vnd.databricks.v1+cell": {
     "cellMetadata": {},
     "inputWidgets": {},
     "nuid": "12978781-8f26-47be-a76a-d2f41206d46b",
     "showTitle": false,
     "title": ""
    }
   },
   "outputs": [],
   "source": [
    "df_dishcare = spark.sql(\"select period_as_date, qty_serv, product_line from team_group_quality.service_call_forecasting where product_line in ('Dish Care')\")\n",
    "ncalls_overtime_dishcare = df_dishcare.groupby('period_as_date').agg({'qty_serv': 'sum'}).toPandas()\n",
    "ncalls_overtime_dishcare['product_line'] = \"Dish Care\"\n",
    "\n",
    "df_fabriccare = spark.sql(\"select period_as_date, qty_serv, product_line from team_group_quality.service_call_forecasting where product_line in ('Fabric Care')\")\n",
    "ncalls_overtime_fabriccare = df_fabriccare.groupby('period_as_date').agg({'qty_serv': 'sum'}).toPandas()\n",
    "ncalls_overtime_fabriccare['product_line'] = \"Fabric Care\"\n",
    "\n",
    "df_foodprep = spark.sql(\"select period_as_date, qty_serv, product_line from team_group_quality.service_call_forecasting where product_line in ('Food Preparation')\")\n",
    "ncalls_overtime_foodprep = df_foodprep.groupby('period_as_date').agg({'qty_serv': 'sum'}).toPandas()\n",
    "ncalls_overtime_foodprep['product_line'] = \"Food Preparation\"\n",
    "\n",
    "df_foodpres = spark.sql(\"select period_as_date, qty_serv, product_line from team_group_quality.service_call_forecasting where product_line in ('Food Preservation')\")\n",
    "ncalls_overtime_foodpres = df_foodpres.groupby('period_as_date').agg({'qty_serv': 'sum'}).toPandas()\n",
    "ncalls_overtime_foodpres['product_line'] = \"Food Preservation\""
   ]
  },
  {
   "cell_type": "code",
   "execution_count": 0,
   "metadata": {
    "application/vnd.databricks.v1+cell": {
     "cellMetadata": {},
     "inputWidgets": {},
     "nuid": "78a8a309-5218-4f61-91c2-88a814b1a7e3",
     "showTitle": false,
     "title": ""
    }
   },
   "outputs": [],
   "source": [
    "ncalls_overtime_3 = pd.concat([ncalls_overtime_dishcare, ncalls_overtime_fabriccare, ncalls_overtime_foodprep, ncalls_overtime_foodpres], ignore_index=True)\n",
    "result = sns.relplot(data=ncalls_overtime_3, x='period_as_date', y='sum(qty_serv)', kind='line', hue='product_line').set(title=\"# Calls over time split by product lines (major appliances)\")"
   ]
  },
  {
   "cell_type": "markdown",
   "metadata": {
    "application/vnd.databricks.v1+cell": {
     "cellMetadata": {},
     "inputWidgets": {},
     "nuid": "73992352-5551-46c2-b53f-f85dea3829ec",
     "showTitle": false,
     "title": ""
    }
   },
   "source": [
    "#### Let's see the number of calls over the years of PNC = 900272856 (picked from highest count(failure_date) above)"
   ]
  },
  {
   "cell_type": "code",
   "execution_count": 0,
   "metadata": {
    "application/vnd.databricks.v1+cell": {
     "cellMetadata": {},
     "inputWidgets": {},
     "nuid": "33a75479-7550-47e5-a1ff-a05588e884f6",
     "showTitle": false,
     "title": ""
    }
   },
   "outputs": [],
   "source": [
    "df_pncfocus1 = spark.sql(\"select period_as_date, qty_serv, pnc_sku from team_group_quality.service_call_forecasting where pnc_sku in ('900272856')\")\n",
    "ncalls_overtime_pncfocus1 = df_pncfocus1.groupby('period_as_date').agg({'qty_serv': 'sum'}).toPandas()\n",
    "sns.relplot(data=ncalls_overtime_pncfocus1, x=\"period_as_date\", y=\"sum(qty_serv)\", kind='line').set(title=\"# Calls overtime for PNC = 900272856\")"
   ]
  },
  {
   "cell_type": "markdown",
   "metadata": {
    "application/vnd.databricks.v1+cell": {
     "cellMetadata": {},
     "inputWidgets": {},
     "nuid": "65128814-ec36-4dae-8361-f06ad9fa9fef",
     "showTitle": false,
     "title": ""
    }
   },
   "source": [
    "####Number of sold over time (overall)"
   ]
  },
  {
   "cell_type": "code",
   "execution_count": 0,
   "metadata": {
    "application/vnd.databricks.v1+cell": {
     "cellMetadata": {},
     "inputWidgets": {},
     "nuid": "bdc10c41-2002-4686-9ee9-277d65893fb6",
     "showTitle": false,
     "title": ""
    }
   },
   "outputs": [],
   "source": [
    "df_sold_overtime = spark.sql(\"select extract(year from sell_out_date) sell_out_date_year, sell_out_date from team_group_quality.service_call_forecasting where sell_out_date between '2015' and '2023'\")\n",
    "nsold_overtime = df_sold_overtime.groupby('sell_out_date_year').agg({'sell_out_date': 'count'}).toPandas()\n",
    "nsold_overtime = nsold_overtime.sort_values('sell_out_date_year', ascending=True)\n",
    "nsold_overtime"
   ]
  },
  {
   "cell_type": "code",
   "execution_count": 0,
   "metadata": {
    "application/vnd.databricks.v1+cell": {
     "cellMetadata": {},
     "inputWidgets": {},
     "nuid": "2a47060f-74e9-4465-bea6-186044bbc718",
     "showTitle": false,
     "title": ""
    }
   },
   "outputs": [],
   "source": [
    "sns.relplot(data=nsold_overtime, x=\"sell_out_date_year\", y=\"count(sell_out_date)\", kind='line').set(title=\"# sold over time\")"
   ]
  },
  {
   "cell_type": "markdown",
   "metadata": {
    "application/vnd.databricks.v1+cell": {
     "cellMetadata": {},
     "inputWidgets": {},
     "nuid": "2e208355-c603-4406-8285-0f08fd93e524",
     "showTitle": false,
     "title": ""
    }
   },
   "source": [
    "###Number of sold over time with product line split"
   ]
  },
  {
   "cell_type": "code",
   "execution_count": 0,
   "metadata": {
    "application/vnd.databricks.v1+cell": {
     "cellMetadata": {},
     "inputWidgets": {},
     "nuid": "cf1ff236-ba72-422a-926d-f0e163ca6b85",
     "showTitle": false,
     "title": ""
    }
   },
   "outputs": [],
   "source": [
    "df_dishcare = spark.sql(\"select extract(year from sell_out_date) sell_out_date_year, sell_out_date, product_line from team_group_quality.service_call_forecasting where product_line in ('Dish Care') and sell_out_date between '2015' and '2023'\")\n",
    "nsold_overtime_dishcare = df_dishcare.groupby('sell_out_date_year').agg({'sell_out_date': 'count'}).toPandas()\n",
    "nsold_overtime_dishcare['product_line'] = \"Dish Care\"\n",
    "\n",
    "df_fabriccare = spark.sql(\"select extract(year from sell_out_date) sell_out_date_year, sell_out_date, product_line from team_group_quality.service_call_forecasting where product_line in ('Fabric Care') and sell_out_date between '2015' and '2023'\")\n",
    "nsold_overtime_fabriccare = df_fabriccare.groupby('sell_out_date_year').agg({'sell_out_date': 'count'}).toPandas()\n",
    "nsold_overtime_fabriccare['product_line'] = \"Fabric Care\"\n",
    "\n",
    "df_foodprep = spark.sql(\"select extract(year from sell_out_date) sell_out_date_year, sell_out_date, product_line from team_group_quality.service_call_forecasting where product_line in ('Food Preparation') and sell_out_date between '2015' and '2023'\")\n",
    "nsold_overtime_foodprep = df_foodprep.groupby('sell_out_date_year').agg({'sell_out_date': 'count'}).toPandas()\n",
    "nsold_overtime_foodprep['product_line'] = \"Food Preparation\"\n",
    "\n",
    "df_foodpres = spark.sql(\"select extract(year from sell_out_date) sell_out_date_year, sell_out_date, product_line from team_group_quality.service_call_forecasting where product_line in ('Food Preservation') and sell_out_date between '2015' and '2023'\")\n",
    "nsold_overtime_foodpres = df_foodpres.groupby('sell_out_date_year').agg({'sell_out_date': 'count'}).toPandas()\n",
    "nsold_overtime_foodpres['product_line'] = \"Food Preservation\""
   ]
  },
  {
   "cell_type": "code",
   "execution_count": 0,
   "metadata": {
    "application/vnd.databricks.v1+cell": {
     "cellMetadata": {},
     "inputWidgets": {},
     "nuid": "306a25de-a3f5-44c6-aa26-12f444c5e365",
     "showTitle": false,
     "title": ""
    }
   },
   "outputs": [],
   "source": [
    "nsold_overtime_pl = pd.concat([nsold_overtime_dishcare, nsold_overtime_fabriccare, nsold_overtime_foodprep, nsold_overtime_foodpres], ignore_index=True)\n",
    "result_nsold = sns.relplot(data=nsold_overtime_pl, x='sell_out_date_year', y='count(sell_out_date)', kind='line', hue='product_line').set(title=\"#sold overtime split by product lines (major appliances)\")"
   ]
  },
  {
   "cell_type": "markdown",
   "metadata": {
    "application/vnd.databricks.v1+cell": {
     "cellMetadata": {},
     "inputWidgets": {},
     "nuid": "59ee3c85-1cf2-4f3e-b176-b88ebba4a3d2",
     "showTitle": false,
     "title": ""
    }
   },
   "source": [
    "#### Let's see the number of sold over the years of PNC = 900272856 (picked from highest count(failure_date) above)"
   ]
  },
  {
   "cell_type": "code",
   "execution_count": 0,
   "metadata": {
    "application/vnd.databricks.v1+cell": {
     "cellMetadata": {},
     "inputWidgets": {},
     "nuid": "44626f96-18df-458a-a374-199fb8c6202c",
     "showTitle": false,
     "title": ""
    }
   },
   "outputs": [],
   "source": [
    "df_pncfocus1 = spark.sql(\"select extract(year from sell_out_date) sell_out_date_year, sell_out_date, pnc_sku from team_group_quality.service_call_forecasting where pnc_sku in ('900272856')\")\n",
    "nsold_overtime_pncfocus1 = df_pncfocus1.groupby('sell_out_date_year').agg({'sell_out_date': 'count'}).toPandas()\n",
    "sns.relplot(data=nsold_overtime_pncfocus1, x=\"sell_out_date_year\", y=\"count(sell_out_date)\", kind='line').set(title=\"# sold overtime for PNC = 900272856\")"
   ]
  },
  {
   "cell_type": "markdown",
   "metadata": {
    "application/vnd.databricks.v1+cell": {
     "cellMetadata": {},
     "inputWidgets": {},
     "nuid": "1965d5df-a673-4f15-99c5-dfcc07b37749",
     "showTitle": false,
     "title": ""
    }
   },
   "source": [
    "####TTFI Distribution"
   ]
  },
  {
   "cell_type": "code",
   "execution_count": 0,
   "metadata": {
    "application/vnd.databricks.v1+cell": {
     "cellMetadata": {
      "byteLimit": 2048000,
      "rowLimit": 10000
     },
     "inputWidgets": {},
     "nuid": "8bc31cbd-e2fe-4697-b234-9b81ef6751fc",
     "showTitle": false,
     "title": ""
    }
   },
   "outputs": [],
   "source": [
    "df_ttfi = spark.sql(\"select sell_out_date, period_as_date, qty_serv, ttfi from team_group_quality.service_call_forecasting\")\n",
    "ttfi = df_ttfi.groupby('ttfi').agg({'qty_serv': 'sum'}).toPandas()\n",
    "ttfi = ttfi.sort_values('ttfi', ascending=True)\n",
    "ttfi"
   ]
  },
  {
   "cell_type": "code",
   "execution_count": 0,
   "metadata": {
    "application/vnd.databricks.v1+cell": {
     "cellMetadata": {
      "byteLimit": 2048000,
      "rowLimit": 10000
     },
     "inputWidgets": {},
     "nuid": "2cf51735-835e-4fa8-8f18-632cbdecd93d",
     "showTitle": false,
     "title": ""
    }
   },
   "outputs": [],
   "source": [
    "sns.relplot(data=ttfi, x=\"ttfi\", y=\"sum(qty_serv)\", kind='line')"
   ]
  },
  {
   "cell_type": "code",
   "execution_count": 0,
   "metadata": {
    "application/vnd.databricks.v1+cell": {
     "cellMetadata": {},
     "inputWidgets": {},
     "nuid": "383671b6-5250-4874-8f86-79c6044782ec",
     "showTitle": false,
     "title": ""
    }
   },
   "outputs": [],
   "source": []
  }
 ],
 "metadata": {
  "application/vnd.databricks.v1+notebook": {
   "dashboards": [],
   "language": "python",
   "notebookMetadata": {
    "mostRecentlyExecutedCommandWithImplicitDF": {
     "commandId": 3272755498541790,
     "dataframes": [
      "_sqldf"
     ]
    },
    "pythonIndentUnit": 2
   },
   "notebookName": "01_SC_forecasting_eda_visualizations",
   "widgets": {}
  }
 },
 "nbformat": 4,
 "nbformat_minor": 0
}
